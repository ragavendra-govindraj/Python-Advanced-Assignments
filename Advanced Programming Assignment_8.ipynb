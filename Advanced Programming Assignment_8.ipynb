{
 "cells": [
  {
   "cell_type": "markdown",
   "metadata": {},
   "source": [
    "1) Given a sentence as txt, return True if any two adjacent words have this property: One word ends with a vowel, while the word immediately after begins with a vowel (a e i o u).\n",
    "Examples:\n",
    "vowel_links(\"a very large appliance\") ➞ True\n",
    "vowel_links(\"go to edabit\") ➞ True\n",
    "vowel_links(\"an open fire\") ➞ False\n",
    "vowel_links(\"a sudden applause\") ➞ False"
   ]
  },
  {
   "cell_type": "markdown",
   "metadata": {},
   "source": [
    "Ans 1)"
   ]
  },
  {
   "cell_type": "code",
   "execution_count": 6,
   "metadata": {},
   "outputs": [
    {
     "data": {
      "text/plain": [
       "False"
      ]
     },
     "execution_count": 6,
     "metadata": {},
     "output_type": "execute_result"
    }
   ],
   "source": [
    "def vowel_links(stringo):\n",
    "    inlist = stringo.split(\",\")\n",
    "    vowels= ['a','e','i','o','u']\n",
    "    end = False\n",
    "    Start = False\n",
    "    output = False\n",
    "    \n",
    "    for i in range(len(inlist)):\n",
    "        temp = True if inlist[i][-1] in vowels else False\n",
    "        start = True if inlist[i][0] in vowels else False\n",
    "        \n",
    "        if start == end == True:\n",
    "            output = True\n",
    "            break\n",
    "            \n",
    "        end = temp\n",
    "        \n",
    "        return output\n",
    "        \n",
    "vowel_links(\"a very large appliance\")\n",
    "vowel_links(\"go to edabit\")\n",
    "vowel_links(\"an open fire\")\n",
    "vowel_links(\"a sudden applause\")\n"
   ]
  },
  {
   "cell_type": "markdown",
   "metadata": {},
   "source": [
    "2) You are given three inputs: a string, one letter, and a second letter. Write a function that returns True if every instance of the first letter occurs before every instance of the second letter.\n",
    "Examples:\n",
    "first_before_second(\"a rabbit jumps joyfully\", \"a\", \"j\") ➞ True\n",
    "# Every instance of \"a\" occurs before every instance of \"j\".\n",
    "\n",
    "first_before_second(\"knaves knew about waterfalls\", \"k\", \"w\") ➞  True\n",
    "\n",
    "first_before_second(\"happy birthday\", \"a\", \"y\") ➞ False\n",
    "# The \"a\" in \"birthday\" occurs after the \"y\" in \"happy\".\n",
    "\n",
    "first_before_second(\"precarious kangaroos\", \"k\", \"a\") ➞ False\n",
    "\n",
    "\n"
   ]
  },
  {
   "cell_type": "markdown",
   "metadata": {},
   "source": [
    "Ans 2) "
   ]
  },
  {
   "cell_type": "code",
   "execution_count": 12,
   "metadata": {},
   "outputs": [
    {
     "data": {
      "text/plain": [
       "True"
      ]
     },
     "execution_count": 12,
     "metadata": {},
     "output_type": "execute_result"
    }
   ],
   "source": [
    "def first_before_second(string, first,second):\n",
    "    lof = string.rindex(first)\n",
    "    fos = string.rindex(second)\n",
    "    if lof<fos:\n",
    "        output = True\n",
    "        \n",
    "    else:\n",
    "        output = False\n",
    "        \n",
    "    return output\n",
    "first_before_second(\"precarious kangaroos\", \"k\", \"a\")\n",
    "first_before_second(\"a rabbit jumps joyfully\", \"a\", \"j\")\n",
    "first_before_second(\"knaves knew about waterfalls\", \"k\", \"w\")\n"
   ]
  },
  {
   "cell_type": "markdown",
   "metadata": {},
   "source": [
    "3) Create a function that returns the characters from a list or string r on odd or even positions, depending on the specifier s. The specifier will be \"odd\" for items on odd positions (1, 3, 5, ...) and \"even\" for items on even positions (2, 4, 6, ...).\n",
    "Examples:\n",
    "char_at_pos([2, 4, 6, 8, 10], \"even\") ➞ [4, 8]\n",
    "# 4 & 8 occupy the 2nd & 4th positions\n",
    "\n",
    "char_at_pos(\"EDABIT\", \"odd\") ➞ \"EAI\"\n",
    "# \"E\", \"A\" and \"I\" occupy the 1st, 3rd and 5th positions\n",
    "\n",
    "char_at_pos([\"A\", \"R\", \"B\", \"I\", \"T\", \"R\", \"A\", \"R\", \"I\", \"L\", \"Y\"], \"odd\") ➞ [\"A\", \"B\", \"T\", \"A\", \"I\", \"Y\"]"
   ]
  },
  {
   "cell_type": "markdown",
   "metadata": {},
   "source": [
    "Ans 3)"
   ]
  },
  {
   "cell_type": "code",
   "execution_count": 20,
   "metadata": {},
   "outputs": [
    {
     "data": {
      "text/plain": [
       "['A', 'B', 'T', 'A', 'I', 'Y']"
      ]
     },
     "execution_count": 20,
     "metadata": {},
     "output_type": "execute_result"
    }
   ],
   "source": [
    "def char_at_pos(listo,mode):\n",
    "    outlist = []\n",
    "    for i in range(len(listo)):\n",
    "        if mode == \"even\" and (i+1)%2 == 0:\n",
    "            outlist.append(listo[i])\n",
    "            \n",
    "        elif mode == \"odd\" and (i+1)%2 != 0:\n",
    "            outlist.append(listo[i])\n",
    "            \n",
    "    return outlist\n",
    "\n",
    "char_at_pos([2, 4, 6, 8, 10], \"even\")\n",
    "char_at_pos('EDABIT', 'odd')\n",
    "\n",
    "char_at_pos(['A', 'R', 'B', 'I', 'T', 'R', 'A', 'R', 'I', 'L', 'Y'], 'odd')"
   ]
  },
  {
   "cell_type": "markdown",
   "metadata": {},
   "source": [
    "4) Write a function that returns the greatest common divisor of all list elements. If the greatest common divisor is 1, return 1.\n",
    "Examples:\n",
    "GCD([10, 20, 40]) ➞ 10\n",
    "GCD([1, 2, 3, 100]) ➞ 1\n",
    "GCD([1024, 192, 2048, 512]) ➞ 64\n",
    "\n"
   ]
  },
  {
   "cell_type": "markdown",
   "metadata": {},
   "source": [
    "Ans 4)"
   ]
  },
  {
   "cell_type": "code",
   "execution_count": 25,
   "metadata": {},
   "outputs": [
    {
     "data": {
      "text/plain": [
       "64"
      ]
     },
     "execution_count": 25,
     "metadata": {},
     "output_type": "execute_result"
    }
   ],
   "source": [
    "def GCD(listo):\n",
    "    small = min(listo)\n",
    "    gcd = -1\n",
    "    for i in range(1, small+1):\n",
    "        output = []\n",
    "        for j in listo:\n",
    "            output.append(j%i)\n",
    "        if len(set(output)) == 1 and list(set(output))[0] == 0:\n",
    "            \n",
    "               gcd = i\n",
    "           \n",
    "    return gcd\n",
    "           \n",
    "GCD([10, 20, 40])\n",
    "GCD([1, 2, 3, 100])\n",
    "GCD([1024, 192, 2048, 512])\n"
   ]
  },
  {
   "cell_type": "code",
   "execution_count": 26,
   "metadata": {},
   "outputs": [],
   "source": [
    "def GCD(in_list):\n",
    "    small = min(in_list)\n",
    "    gcd = -1\n",
    "    for i in range(1, small+1):\n",
    "        output = []\n",
    "        for ele in in_list:\n",
    "            output.append(ele%i)\n",
    "        if len(set(output)) == 1 and list(set(output))[0] == 0:\n",
    "            gcd = i\n",
    "    print(f'GCD({in_list}) ➞ {gcd}')\n"
   ]
  },
  {
   "cell_type": "markdown",
   "metadata": {},
   "source": [
    "5) A number/string is a palindrome if the digits/characters are the same when read both forward and backward. Examples include \"racecar\" and 12321. Given a positive number n, check if n or the binary representation of n is palindromic. Return the following:\n",
    "\"Decimal only.\" if only n is a palindrome.\n",
    "\"Binary only.\" if only the binary representation of n is a palindrome.\n",
    "\"Decimal and binary.\" if both are palindromes.\n",
    "\"Neither!\" if neither are palindromes.\n",
    "Examples:\n",
    "\n",
    "palindrome_type(1306031) ➞ \"Decimal only.\"\n",
    "# decimal = 1306031\n",
    "# binary  = \"100111110110110101111\"\n",
    "\n",
    "palindrome_type(427787) ➞ \"Binary only.\"\n",
    "# decimal = 427787\n",
    "# binary  = \"1101000011100001011\"\n",
    "\n",
    "palindrome_type(313) ➞ \"Decimal and binary.\"\n",
    "# decimal = 313\n",
    "# binary  = 100111001\n",
    "\n"
   ]
  },
  {
   "cell_type": "markdown",
   "metadata": {},
   "source": [
    "Ans 5)"
   ]
  },
  {
   "cell_type": "code",
   "execution_count": 32,
   "metadata": {},
   "outputs": [
    {
     "data": {
      "text/plain": [
       "'Neither'"
      ]
     },
     "execution_count": 32,
     "metadata": {},
     "output_type": "execute_result"
    }
   ],
   "source": [
    "def palindrome_type(num):\n",
    "    output = None\n",
    "    \n",
    "    if str(num) == str(num)[::-1] and str(bin(num)[2:]) == str(bin(num)[2:])[::-1]:\n",
    "        output =\"Decimal and binary\"\n",
    "        \n",
    "    elif str(num) == str(num)[::-1] and str(bin(num)[2:]) != str(bin(num)[2:])[::-1]:\n",
    "        output =\"Decimal only\"\n",
    "        \n",
    "    elif str(num) != str(num)[::-1] and str(bin(num)[2:]) == str(bin(num)[2:])[::-1]:\n",
    "        output =\"Binary only\"\n",
    "        \n",
    "    else:\n",
    "        output =\"Neither\"\n",
    "        \n",
    "    return output\n",
    "        \n",
    "palindrome_type(1306031)\n",
    "palindrome_type(427787)\n",
    "palindrome_type(313)\n",
    "palindrome_type(934)\n",
    "\n"
   ]
  }
 ],
 "metadata": {
  "kernelspec": {
   "display_name": "Python 3",
   "language": "python",
   "name": "python3"
  },
  "language_info": {
   "codemirror_mode": {
    "name": "ipython",
    "version": 3
   },
   "file_extension": ".py",
   "mimetype": "text/x-python",
   "name": "python",
   "nbconvert_exporter": "python",
   "pygments_lexer": "ipython3",
   "version": "3.6.5"
  }
 },
 "nbformat": 4,
 "nbformat_minor": 2
}
